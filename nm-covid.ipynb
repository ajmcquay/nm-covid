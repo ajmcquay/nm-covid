{
  "nbformat": 4,
  "nbformat_minor": 0,
  "metadata": {
    "kernelspec": {
      "display_name": "Python 3",
      "language": "python",
      "name": "python3"
    },
    "language_info": {
      "codemirror_mode": {
        "name": "ipython",
        "version": 3
      },
      "file_extension": ".py",
      "mimetype": "text/x-python",
      "name": "python",
      "nbconvert_exporter": "python",
      "pygments_lexer": "ipython3",
      "version": "3.8.2"
    },
    "colab": {
      "name": "nm-covid.ipynb",
      "provenance": []
    }
  },
  "cells": [
    {
      "cell_type": "code",
      "metadata": {
        "id": "OwEDqX1BjThp",
        "colab_type": "code",
        "colab": {}
      },
      "source": [
        "# Libraries\n",
        "\n",
        "import matplotlib.pyplot as plt\n",
        "import matplotlib.figure as figure\n",
        "import numpy as np\n",
        "import pandas as pd\n",
        "import seaborn as sns"
      ],
      "execution_count": 0,
      "outputs": []
    },
    {
      "cell_type": "code",
      "metadata": {
        "id": "Z4ZztiwjjThr",
        "colab_type": "code",
        "colab": {
          "base_uri": "https://localhost:8080/",
          "height": 390
        },
        "outputId": "f45a7f13-960b-4693-ec8e-534fb215ef0b"
      },
      "source": [
        "# Data\n",
        "\n",
        "df = pd.read_csv('covid.csv',parse_dates=['date'],index_col=['date'])\n",
        "df.sort_values(by=['date'], inplace=True, ascending=True)\n",
        "df.dropna(axis=0, how='all', inplace=True)\n",
        "df.fillna('0 new cases',inplace=True)\n",
        "df.head(10)"
      ],
      "execution_count": 4,
      "outputs": [
        {
          "output_type": "execute_result",
          "data": {
            "text/html": [
              "<div>\n",
              "<style scoped>\n",
              "    .dataframe tbody tr th:only-of-type {\n",
              "        vertical-align: middle;\n",
              "    }\n",
              "\n",
              "    .dataframe tbody tr th {\n",
              "        vertical-align: top;\n",
              "    }\n",
              "\n",
              "    .dataframe thead th {\n",
              "        text-align: right;\n",
              "    }\n",
              "</style>\n",
              "<table border=\"1\" class=\"dataframe\">\n",
              "  <thead>\n",
              "    <tr style=\"text-align: right;\">\n",
              "      <th></th>\n",
              "      <th>McKinleyCountyM</th>\n",
              "      <th>BernalilloCountyM</th>\n",
              "      <th>BernalilloCountyS</th>\n",
              "      <th>McKinleyCountyS</th>\n",
              "    </tr>\n",
              "    <tr>\n",
              "      <th>date</th>\n",
              "      <th></th>\n",
              "      <th></th>\n",
              "      <th></th>\n",
              "      <th></th>\n",
              "    </tr>\n",
              "  </thead>\n",
              "  <tbody>\n",
              "    <tr>\n",
              "      <th>2020-03-27</th>\n",
              "      <td>2 new cases in McKinley County</td>\n",
              "      <td>27 new cases in Bernalillo County</td>\n",
              "      <td>0 new cases</td>\n",
              "      <td>0 new cases</td>\n",
              "    </tr>\n",
              "    <tr>\n",
              "      <th>2020-03-28</th>\n",
              "      <td>0 new cases</td>\n",
              "      <td>11 new cases in Bernalillo County</td>\n",
              "      <td>0 new cases</td>\n",
              "      <td>0 new cases</td>\n",
              "    </tr>\n",
              "    <tr>\n",
              "      <th>2020-03-29</th>\n",
              "      <td>4 new cases in McKinley County</td>\n",
              "      <td>9 new cases in Bernalillo County</td>\n",
              "      <td>0 new cases</td>\n",
              "      <td>0 new cases</td>\n",
              "    </tr>\n",
              "    <tr>\n",
              "      <th>2020-03-30</th>\n",
              "      <td>3 new cases in McKinley County</td>\n",
              "      <td>16 new cases in Bernalillo County</td>\n",
              "      <td>0 new cases</td>\n",
              "      <td>0 new cases</td>\n",
              "    </tr>\n",
              "    <tr>\n",
              "      <th>2020-03-31</th>\n",
              "      <td>4 new cases in McKinley County</td>\n",
              "      <td>12 new cases in Bernalillo County</td>\n",
              "      <td>0 new cases</td>\n",
              "      <td>0 new cases</td>\n",
              "    </tr>\n",
              "    <tr>\n",
              "      <th>2020-04-01</th>\n",
              "      <td>4 new cases in McKinley County</td>\n",
              "      <td>19 new cases in Bernalillo County</td>\n",
              "      <td>0 new cases</td>\n",
              "      <td>0 new cases</td>\n",
              "    </tr>\n",
              "    <tr>\n",
              "      <th>2020-04-02</th>\n",
              "      <td>4 new cases in McKinley County</td>\n",
              "      <td>15 new cases in Bernalillo County</td>\n",
              "      <td>0 new cases</td>\n",
              "      <td>0 new cases</td>\n",
              "    </tr>\n",
              "    <tr>\n",
              "      <th>2020-04-03</th>\n",
              "      <td>8 new cases in McKinley County</td>\n",
              "      <td>39 new cases in Bernalillo County</td>\n",
              "      <td>0 new cases</td>\n",
              "      <td>0 new cases</td>\n",
              "    </tr>\n",
              "    <tr>\n",
              "      <th>2020-04-04</th>\n",
              "      <td>0 new cases</td>\n",
              "      <td>23 new cases in Bernalillo County</td>\n",
              "      <td>0 new cases</td>\n",
              "      <td>1 new case in McKinley County</td>\n",
              "    </tr>\n",
              "    <tr>\n",
              "      <th>2020-04-05</th>\n",
              "      <td>9 new cases in McKinley County</td>\n",
              "      <td>21 new cases in Bernalillo County</td>\n",
              "      <td>0 new cases</td>\n",
              "      <td>0 new cases</td>\n",
              "    </tr>\n",
              "  </tbody>\n",
              "</table>\n",
              "</div>"
            ],
            "text/plain": [
              "                            McKinleyCountyM  ...                McKinleyCountyS\n",
              "date                                         ...                               \n",
              "2020-03-27   2 new cases in McKinley County  ...                    0 new cases\n",
              "2020-03-28                      0 new cases  ...                    0 new cases\n",
              "2020-03-29   4 new cases in McKinley County  ...                    0 new cases\n",
              "2020-03-30   3 new cases in McKinley County  ...                    0 new cases\n",
              "2020-03-31   4 new cases in McKinley County  ...                    0 new cases\n",
              "2020-04-01   4 new cases in McKinley County  ...                    0 new cases\n",
              "2020-04-02   4 new cases in McKinley County  ...                    0 new cases\n",
              "2020-04-03   8 new cases in McKinley County  ...                    0 new cases\n",
              "2020-04-04                      0 new cases  ...  1 new case in McKinley County\n",
              "2020-04-05   9 new cases in McKinley County  ...                    0 new cases\n",
              "\n",
              "[10 rows x 4 columns]"
            ]
          },
          "metadata": {
            "tags": []
          },
          "execution_count": 4
        }
      ]
    },
    {
      "cell_type": "code",
      "metadata": {
        "id": "GEeDjLshjThu",
        "colab_type": "code",
        "colab": {
          "base_uri": "https://localhost:8080/",
          "height": 390
        },
        "outputId": "12f55e79-b9f0-4073-b042-0929433cdde7"
      },
      "source": [
        "# TODO\n",
        "# 1 - Scrape data for all other NM counties via crawler, roll into graph\n",
        "\n",
        "# create array with all NM county names\n",
        "counties = ['Bernalillo','McKinley']\n",
        "\n",
        "for county in counties:\n",
        "    # set up variables for columns with multiple cases (M) and single cases (S)\n",
        "    countyM = county + 'CountyM'\n",
        "    countyS = county + 'CountyS'\n",
        "    \n",
        "    # convert to strings and trim off non-numerical characters\n",
        "    df[countyM] = df[countyM].astype(str)\n",
        "    df[countyS] = df[countyS].astype(str)\n",
        "    df[countyM] = df[countyM].str.extract(r'(\\d+)', expand=False).astype(int)\n",
        "    df[countyS] = df[countyS].str.extract(r'(\\d+)', expand=False).astype(int)\n",
        "    \n",
        "    # add M and S columns, store sum in new column\n",
        "    county_sum = df[countyM] + df[countyS]\n",
        "    df[county] = county_sum\n",
        "    \n",
        "    # drop unused columns\n",
        "    df = df.drop(countyM, 1)\n",
        "    df = df.drop(countyS, 1)\n",
        "    \n",
        "    # calculate rolling 7-day average\n",
        "    df[county] = df[county].rolling(window=7).mean().round(decimals=0)\n",
        "\n",
        "# fill NaN fields where a sum for 7 days is not available\n",
        "df.fillna(0, inplace=True)\n",
        "\n",
        "df.tail(10)"
      ],
      "execution_count": 5,
      "outputs": [
        {
          "output_type": "execute_result",
          "data": {
            "text/html": [
              "<div>\n",
              "<style scoped>\n",
              "    .dataframe tbody tr th:only-of-type {\n",
              "        vertical-align: middle;\n",
              "    }\n",
              "\n",
              "    .dataframe tbody tr th {\n",
              "        vertical-align: top;\n",
              "    }\n",
              "\n",
              "    .dataframe thead th {\n",
              "        text-align: right;\n",
              "    }\n",
              "</style>\n",
              "<table border=\"1\" class=\"dataframe\">\n",
              "  <thead>\n",
              "    <tr style=\"text-align: right;\">\n",
              "      <th></th>\n",
              "      <th>Bernalillo</th>\n",
              "      <th>McKinley</th>\n",
              "    </tr>\n",
              "    <tr>\n",
              "      <th>date</th>\n",
              "      <th></th>\n",
              "      <th></th>\n",
              "    </tr>\n",
              "  </thead>\n",
              "  <tbody>\n",
              "    <tr>\n",
              "      <th>2020-05-04</th>\n",
              "      <td>36.0</td>\n",
              "      <td>65.0</td>\n",
              "    </tr>\n",
              "    <tr>\n",
              "      <th>2020-05-05</th>\n",
              "      <td>33.0</td>\n",
              "      <td>65.0</td>\n",
              "    </tr>\n",
              "    <tr>\n",
              "      <th>2020-05-06</th>\n",
              "      <td>32.0</td>\n",
              "      <td>55.0</td>\n",
              "    </tr>\n",
              "    <tr>\n",
              "      <th>2020-05-07</th>\n",
              "      <td>29.0</td>\n",
              "      <td>54.0</td>\n",
              "    </tr>\n",
              "    <tr>\n",
              "      <th>2020-05-08</th>\n",
              "      <td>29.0</td>\n",
              "      <td>57.0</td>\n",
              "    </tr>\n",
              "    <tr>\n",
              "      <th>2020-05-09</th>\n",
              "      <td>24.0</td>\n",
              "      <td>56.0</td>\n",
              "    </tr>\n",
              "    <tr>\n",
              "      <th>2020-05-10</th>\n",
              "      <td>22.0</td>\n",
              "      <td>54.0</td>\n",
              "    </tr>\n",
              "    <tr>\n",
              "      <th>2020-05-11</th>\n",
              "      <td>21.0</td>\n",
              "      <td>51.0</td>\n",
              "    </tr>\n",
              "    <tr>\n",
              "      <th>2020-05-12</th>\n",
              "      <td>22.0</td>\n",
              "      <td>51.0</td>\n",
              "    </tr>\n",
              "    <tr>\n",
              "      <th>2020-05-13</th>\n",
              "      <td>21.0</td>\n",
              "      <td>49.0</td>\n",
              "    </tr>\n",
              "  </tbody>\n",
              "</table>\n",
              "</div>"
            ],
            "text/plain": [
              "            Bernalillo  McKinley\n",
              "date                            \n",
              "2020-05-04        36.0      65.0\n",
              "2020-05-05        33.0      65.0\n",
              "2020-05-06        32.0      55.0\n",
              "2020-05-07        29.0      54.0\n",
              "2020-05-08        29.0      57.0\n",
              "2020-05-09        24.0      56.0\n",
              "2020-05-10        22.0      54.0\n",
              "2020-05-11        21.0      51.0\n",
              "2020-05-12        22.0      51.0\n",
              "2020-05-13        21.0      49.0"
            ]
          },
          "metadata": {
            "tags": []
          },
          "execution_count": 5
        }
      ]
    },
    {
      "cell_type": "code",
      "metadata": {
        "id": "ZgiTBR1fjThw",
        "colab_type": "code",
        "colab": {
          "base_uri": "https://localhost:8080/",
          "height": 788
        },
        "outputId": "ad46a8c6-4f6b-4d5d-e745-cc013de3f921"
      },
      "source": [
        "sns.set(style=\"darkgrid\")\n",
        "df.plot(title='Rolling 7 day average by NM County',figsize=(18,12))"
      ],
      "execution_count": 6,
      "outputs": [
        {
          "output_type": "execute_result",
          "data": {
            "text/plain": [
              "<matplotlib.axes._subplots.AxesSubplot at 0x7f2594688cc0>"
            ]
          },
          "metadata": {
            "tags": []
          },
          "execution_count": 6
        },
        {
          "output_type": "display_data",
          "data": {
            "image/png": "[encoded data removed]",
            "text/plain": [
              "<Figure size 1296x864 with 1 Axes>"
            ]
          },
          "metadata": {
            "tags": []
          }
        }
      ]
    },
    {
      "cell_type": "code",
      "metadata": {
        "id": "VdibG7-GjThy",
        "colab_type": "code",
        "colab": {}
      },
      "source": [
        ""
      ],
      "execution_count": 0,
      "outputs": []
    }
  ]
}