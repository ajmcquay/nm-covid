{
  "nbformat": 4,
  "nbformat_minor": 0,
  "metadata": {
    "kernelspec": {
      "display_name": "Python 3",
      "language": "python",
      "name": "python3"
    },
    "language_info": {
      "codemirror_mode": {
        "name": "ipython",
        "version": 3
      },
      "file_extension": ".py",
      "mimetype": "text/x-python",
      "name": "python",
      "nbconvert_exporter": "python",
      "pygments_lexer": "ipython3",
      "version": "3.8.2"
    },
    "colab": {
      "name": "nm-covid.ipynb",
      "provenance": []
    }
  },
  "cells": [
    {
      "cell_type": "code",
      "metadata": {
        "id": "OwEDqX1BjThp",
        "colab_type": "code",
        "colab": {
          "base_uri": "https://localhost:8080/",
          "height": 51
        },
        "outputId": "e6c1dc1e-7377-41cd-903e-47a9341cc874"
      },
      "source": [
        "# Libraries\n",
        "\n",
        "import matplotlib.pyplot as plt\n",
        "import matplotlib.figure as figure\n",
        "import numpy as np\n",
        "import pandas as pd\n",
        "import seaborn as sns"
      ],
      "execution_count": 1,
      "outputs": [
        {
          "output_type": "stream",
          "text": [
            "/usr/local/lib/python3.6/dist-packages/statsmodels/tools/_testing.py:19: FutureWarning: pandas.util.testing is deprecated. Use the functions in the public API at pandas.testing instead.\n",
            "  import pandas.util.testing as tm\n"
          ],
          "name": "stderr"
        }
      ]
    },
    {
      "cell_type": "code",
      "metadata": {
        "id": "Z4ZztiwjjThr",
        "colab_type": "code",
        "outputId": "e5e00af0-17c9-4f86-bb9d-b78ec84136e1",
        "outputId": "48dca1da-f356-40a5-da74-15a68c12dad4",
        "colab": {
          "base_uri": "https://localhost:8080/",
          "height": 390
        }
      },
      "source": [
        "# Data\n",
        "\n",
        "df = pd.read_csv('covid.csv',parse_dates=['date'],index_col=['date'])\n",
        "df.sort_values(by=['date'], inplace=True, ascending=True)\n",
        "df.dropna(axis=0, how='all', inplace=True)\n",
        "df.fillna('0 new cases',inplace=True)\n",
        "df.head(10)"
      ],
      "execution_count": 2,
      "execution_count": 8,
      "outputs": [
        {
          "output_type": "execute_result",
          "data": {
            "text/html": [
              "<div>\n",
              "<style scoped>\n",
              "    .dataframe tbody tr th:only-of-type {\n",
              "        vertical-align: middle;\n",
              "    }\n",
              "\n",
              "    .dataframe tbody tr th {\n",
              "        vertical-align: top;\n",
              "    }\n",
              "\n",
              "    .dataframe thead th {\n",
              "        text-align: right;\n",
              "    }\n",
              "</style>\n",
              "<table border=\"1\" class=\"dataframe\">\n",
              "  <thead>\n",
              "    <tr style=\"text-align: right;\">\n",
              "      <th></th>\n",
              "      <th>McKinleyCountyM</th>\n",
              "      <th>BernalilloCountyM</th>\n",
              "      <th>BernalilloCountyS</th>\n",
              "      <th>McKinleyCountyS</th>\n",
              "    </tr>\n",
              "    <tr>\n",
              "      <th>date</th>\n",
              "      <th></th>\n",
              "      <th></th>\n",
              "      <th></th>\n",
              "      <th></th>\n",
              "    </tr>\n",
              "  </thead>\n",
              "  <tbody>\n",
              "    <tr>\n",
              "      <th>2020-03-27</th>\n",
              "      <td>2 new cases in McKinley County</td>\n",
              "      <td>27 new cases in Bernalillo County</td>\n",
              "      <td>0 new cases</td>\n",
              "      <td>0 new cases</td>\n",
              "    </tr>\n",
              "    <tr>\n",
              "      <th>2020-03-28</th>\n",
              "      <td>0 new cases</td>\n",
              "      <td>11 new cases in Bernalillo County</td>\n",
              "      <td>0 new cases</td>\n",
              "      <td>0 new cases</td>\n",
              "    </tr>\n",
              "    <tr>\n",
              "      <th>2020-03-29</th>\n",
              "      <td>4 new cases in McKinley County</td>\n",
              "      <td>9 new cases in Bernalillo County</td>\n",
              "      <td>0 new cases</td>\n",
              "      <td>0 new cases</td>\n",
              "    </tr>\n",
              "    <tr>\n",
              "      <th>2020-03-30</th>\n",
              "      <td>3 new cases in McKinley County</td>\n",
              "      <td>16 new cases in Bernalillo County</td>\n",
              "      <td>0 new cases</td>\n",
              "      <td>0 new cases</td>\n",
              "    </tr>\n",
              "    <tr>\n",
              "      <th>2020-03-31</th>\n",
              "      <td>4 new cases in McKinley County</td>\n",
              "      <td>12 new cases in Bernalillo County</td>\n",
              "      <td>0 new cases</td>\n",
              "      <td>0 new cases</td>\n",
              "    </tr>\n",
              "    <tr>\n",
              "      <th>2020-04-01</th>\n",
              "      <td>4 new cases in McKinley County</td>\n",
              "      <td>19 new cases in Bernalillo County</td>\n",
              "      <td>0 new cases</td>\n",
              "      <td>0 new cases</td>\n",
              "    </tr>\n",
              "    <tr>\n",
              "      <th>2020-04-02</th>\n",
              "      <td>4 new cases in McKinley County</td>\n",
              "      <td>15 new cases in Bernalillo County</td>\n",
              "      <td>0 new cases</td>\n",
              "      <td>0 new cases</td>\n",
              "    </tr>\n",
              "    <tr>\n",
              "      <th>2020-04-03</th>\n",
              "      <td>8 new cases in McKinley County</td>\n",
              "      <td>39 new cases in Bernalillo County</td>\n",
              "      <td>0 new cases</td>\n",
              "      <td>0 new cases</td>\n",
              "    </tr>\n",
              "    <tr>\n",
              "      <th>2020-04-04</th>\n",
              "      <td>0 new cases</td>\n",
              "      <td>23 new cases in Bernalillo County</td>\n",
              "      <td>0 new cases</td>\n",
              "      <td>1 new case in McKinley County</td>\n",
              "    </tr>\n",
              "    <tr>\n",
              "      <th>2020-04-05</th>\n",
              "      <td>9 new cases in McKinley County</td>\n",
              "      <td>21 new cases in Bernalillo County</td>\n",
              "      <td>0 new cases</td>\n",
              "      <td>0 new cases</td>\n",
              "    </tr>\n",
              "  </tbody>\n",
              "</table>\n",
              "</div>"
            ],
            "text/plain": [
              "                            McKinleyCountyM  ...                McKinleyCountyS\n",
              "date                                         ...                               \n",
              "2020-03-27   2 new cases in McKinley County  ...                    0 new cases\n",
              "2020-03-28                      0 new cases  ...                    0 new cases\n",
              "2020-03-29   4 new cases in McKinley County  ...                    0 new cases\n",
              "2020-03-30   3 new cases in McKinley County  ...                    0 new cases\n",
              "2020-03-31   4 new cases in McKinley County  ...                    0 new cases\n",
              "2020-04-01   4 new cases in McKinley County  ...                    0 new cases\n",
              "2020-04-02   4 new cases in McKinley County  ...                    0 new cases\n",
              "2020-04-03   8 new cases in McKinley County  ...                    0 new cases\n",
              "2020-04-04                      0 new cases  ...  1 new case in McKinley County\n",
              "2020-04-05   9 new cases in McKinley County  ...                    0 new cases\n",
              "\n",
              "[10 rows x 4 columns]"
            ]
          },
          "metadata": {
            "tags": []
          },
          "execution_count": 2
          "execution_count": 8
        }
      ]
    },
    {
      "cell_type": "code",
      "metadata": {
        "id": "GEeDjLshjThu",
        "colab_type": "code",
        "outputId": "9e6308f4-f896-44ea-fdb2-8bd0d5d1ec42",
        "outputId": "df61eea8-99db-4f09-ee18-659120b1906a",
        "colab": {
          "base_uri": "https://localhost:8080/",
          "height": 390
        }
      },
      "source": [
        "# TODO\n",
        "# 1 - Scrape data for all other NM counties via crawler, roll into graph\n",
        "\n",
        "# create array with all NM county names\n",
        "counties = ['Bernalillo','McKinley']\n",
        "\n",
        "for county in counties:\n",
        "    # set up variables for columns with multiple cases (M) and single cases (S)\n",
        "    countyM = county + 'CountyM'\n",
        "    countyS = county + 'CountyS'\n",
        "    \n",
        "    # convert to strings and trim off non-numerical characters\n",
        "    df[countyM] = df[countyM].astype(str)\n",
        "    df[countyS] = df[countyS].astype(str)\n",
        "    df[countyM] = df[countyM].str.extract(r'(\\d+)', expand=False).astype(int)\n",
        "    df[countyS] = df[countyS].str.extract(r'(\\d+)', expand=False).astype(int)\n",
        "    \n",
        "    # add M and S columns, store sum in new column\n",
        "    county_sum = df[countyM] + df[countyS]\n",
        "    df[county] = county_sum\n",
        "    \n",
        "    # drop unused columns\n",
        "    df = df.drop(countyM, 1)\n",
        "    df = df.drop(countyS, 1)\n",
        "    \n",
        "    # calculate rolling 7-day average\n",
        "    df[county] = df[county].rolling(window=7).mean().round(decimals=0)\n",
        "\n",
        "# fill NaN fields where a sum for 7 days is not available\n",
        "df.fillna(0, inplace=True)\n",
        "\n",
        "df.tail(10)"
      ],
      "execution_count": 3,
      "execution_count": 9,
      "outputs": [
        {
          "output_type": "execute_result",
          "data": {
            "text/html": [
              "<div>\n",
              "<style scoped>\n",
              "    .dataframe tbody tr th:only-of-type {\n",
              "        vertical-align: middle;\n",
              "    }\n",
              "\n",
              "    .dataframe tbody tr th {\n",
              "        vertical-align: top;\n",
              "    }\n",
              "\n",
              "    .dataframe thead th {\n",
              "        text-align: right;\n",
              "    }\n",
              "</style>\n",
              "<table border=\"1\" class=\"dataframe\">\n",
              "  <thead>\n",
              "    <tr style=\"text-align: right;\">\n",
              "      <th></th>\n",
              "      <th>Bernalillo</th>\n",
              "      <th>McKinley</th>\n",
              "    </tr>\n",
              "    <tr>\n",
              "      <th>date</th>\n",
              "      <th></th>\n",
              "      <th></th>\n",
              "    </tr>\n",
              "  </thead>\n",
              "  <tbody>\n",
              "    <tr>\n",
              "      <th>2020-05-14</th>\n",
              "      <td>20.0</td>\n",
              "      <td>47.0</td>\n",
              "    </tr>\n",
              "    <tr>\n",
              "      <th>2020-05-15</th>\n",
              "      <td>23.0</td>\n",
              "      <td>47.0</td>\n",
              "    </tr>\n",
              "    <tr>\n",
              "      <th>2020-05-16</th>\n",
              "      <td>22.0</td>\n",
              "      <td>51.0</td>\n",
              "    </tr>\n",
              "    <tr>\n",
              "      <th>2020-05-17</th>\n",
              "      <td>21.0</td>\n",
              "      <td>53.0</td>\n",
              "    </tr>\n",
              "    <tr>\n",
              "      <th>2020-05-18</th>\n",
              "      <td>20.0</td>\n",
              "      <td>53.0</td>\n",
              "    </tr>\n",
              "    <tr>\n",
              "      <th>2020-05-19</th>\n",
              "      <td>18.0</td>\n",
              "      <td>52.0</td>\n",
              "    </tr>\n",
              "    <tr>\n",
              "      <th>2020-05-20</th>\n",
              "      <td>20.0</td>\n",
              "      <td>48.0</td>\n",
              "    </tr>\n",
              "    <tr>\n",
              "      <th>2020-05-21</th>\n",
              "      <td>20.0</td>\n",
              "      <td>46.0</td>\n",
              "    </tr>\n",
              "    <tr>\n",
              "      <th>2020-05-22</th>\n",
              "      <td>21.0</td>\n",
              "      <td>44.0</td>\n",
              "    </tr>\n",
              "    <tr>\n",
              "      <th>2020-05-23</th>\n",
              "      <td>21.0</td>\n",
              "      <td>40.0</td>\n",
              "    </tr>\n",
              "  </tbody>\n",
              "</table>\n",
              "</div>"
            ],
            "text/plain": [
              "            Bernalillo  McKinley\n",
              "date                            \n",
              "2020-05-14        20.0      47.0\n",
              "2020-05-15        23.0      47.0\n",
              "2020-05-16        22.0      51.0\n",
              "2020-05-17        21.0      53.0\n",
              "2020-05-18        20.0      53.0\n",
              "2020-05-19        18.0      52.0\n",
              "2020-05-20        20.0      48.0\n",
              "2020-05-21        20.0      46.0\n",
              "2020-05-22        21.0      44.0\n",
              "2020-05-23        21.0      40.0"
            ]
          },
          "metadata": {
            "tags": []
          },
          "execution_count": 3
          "execution_count": 9
        }
      ]
    },
    {
      "cell_type": "code",
      "metadata": {
        "id": "ZgiTBR1fjThw",
        "colab_type": "code",
        "outputId": "931857b6-3938-426e-ce08-9d28c4d1cbc6",
        "outputId": "e5f67cbe-d41e-4002-8fa0-bf8fcf4c97f6",
        "colab": {
          "base_uri": "https://localhost:8080/",
          "height": 788
        }
      },
      "source": [
        "sns.set(style=\"darkgrid\")\n",
        "df.plot(title='Rolling 7 day average by NM County',figsize=(18,12))"
      ],
      "execution_count": 4,
      "execution_count": 10,
      "outputs": [
        {
          "output_type": "execute_result",
          "data": {
            "text/plain": [
              "<matplotlib.axes._subplots.AxesSubplot at 0x7f66dc3a6a58>"
              "<matplotlib.axes._subplots.AxesSubplot at 0x7f66dc26e2b0>"
            ]
          },
          "metadata": {
            "tags": []
          },
          "execution_count": 4
          "execution_count": 10
        },
        {
          "output_type": "display_data",
          "data": {
            "image/png": "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\n",
            "text/plain": [
              "<Figure size 1296x864 with 1 Axes>"
            ]
          },
          "metadata": {
            "tags": []
          }
        }
      ]
    },
    {
      "cell_type": "code",
      "metadata": {
        "id": "VdibG7-GjThy",
        "colab_type": "code",
        "colab": {}
      },
      "source": [
        ""
      ],
      "execution_count": 0,
      "outputs": []
    }
  ]
}